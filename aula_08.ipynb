{
  "nbformat": 4,
  "nbformat_minor": 0,
  "metadata": {
    "colab": {
      "name": "aula_08.ipynb",
      "provenance": [],
      "collapsed_sections": [],
      "authorship_tag": "ABX9TyOIHJ0xTXcebY8aU5M/vw8V"
    },
    "kernelspec": {
      "name": "python3",
      "display_name": "Python 3"
    },
    "language_info": {
      "name": "python"
    }
  },
  "cells": [
    {
      "cell_type": "markdown",
      "metadata": {
        "id": "oa7PX1r4LXjH"
      },
      "source": [
        "#Aula 08: Estatística descritiva \n",
        "###Análise Exploratória de Dados"
      ]
    },
    {
      "cell_type": "markdown",
      "metadata": {
        "id": "ilZBjsV5LdDk"
      },
      "source": [
        "#1. Gráficos, usos e códigos <br>\n"
      ]
    },
    {
      "cell_type": "markdown",
      "source": [
        "#####1.1. gráfico de frequência:"
      ],
      "metadata": {
        "id": "mFCmWH6gtCUw"
      }
    },
    {
      "cell_type": "code",
      "metadata": {
        "id": "YjA9o5Y9-62F"
      },
      "source": [
        "import pandas as pd\n",
        "import numpy as np\n",
        "import matplotlib.mlab as mlab\n",
        "import matplotlib.pyplot as plt "
      ],
      "execution_count": 25,
      "outputs": []
    },
    {
      "cell_type": "code",
      "metadata": {
        "colab": {
          "base_uri": "https://localhost:8080/",
          "height": 298
        },
        "id": "eLU4rX5mL69k",
        "outputId": "5322882d-68f2-4bda-b2e6-0ea757b27178"
      },
      "source": [
        "x = [21,22,23,4,5,6,77,8,9,10,31,32,33,34,35,36,37,18,49,50,100]\n",
        "\n",
        "fig= plt.figure(figsize=(6,4))\n",
        "\n",
        "num_bins = 10\n",
        "n, bins, patches = plt.hist(x, num_bins, facecolor='orange', alpha=0.5, density=False, \n",
        "                            edgecolor='black', linewidth=1.2)\n",
        "plt.title('Gráfico 1',  bbox={'facecolor':'1.0', 'pad':5})\n",
        "plt.xlabel(\"X\", fontsize = 12)\n",
        "plt.ylabel(\"Frequência\", fontsize = 12)\n",
        "plt.xticks(fontsize=10)\n",
        "plt.yticks(fontsize=10)\n",
        "plt.show()"
      ],
      "execution_count": 26,
      "outputs": [
        {
          "output_type": "display_data",
          "data": {
            "image/png": "[encoded data removed]",
            "text/plain": [
              "<Figure size 432x288 with 1 Axes>"
            ]
          },
          "metadata": {
            "needs_background": "light"
          }
        }
      ]
    },
    {
      "cell_type": "markdown",
      "metadata": {
        "id": "UNH7jvR8MMZE"
      },
      "source": [
        "#####1.2. histograma "
      ]
    },
    {
      "cell_type": "code",
      "metadata": {
        "colab": {
          "base_uri": "https://localhost:8080/",
          "height": 298
        },
        "id": "wATjaxOgMRHm",
        "outputId": "2f812360-002e-468d-adee-cc03cc93dfca"
      },
      "source": [
        "#histograma, a área sob a curva deve ser igual a 1 (ver a diferença na escala do eixo das ordenadas (y))\n",
        "x = [21,22,23,4,5,6,77,8,9,10,31,32,33,34,35,36,37,18,49,50,100]\n",
        "\n",
        "fig= plt.figure(figsize=(6,4))\n",
        "\n",
        "num_bins = 10\n",
        "n, bins, patches = plt.hist(x, num_bins, facecolor='orange', alpha=0.5, density=True, \n",
        "                            edgecolor='black', linewidth=1.2)\n",
        "plt.title('Gráfico 2',  bbox={'facecolor':'1.0', 'pad':5})\n",
        "plt.xlabel(\"x\", fontsize = 12)\n",
        "plt.ylabel(\"f(x)\", fontsize = 12)\n",
        "plt.xticks(fontsize=10)\n",
        "plt.yticks(fontsize=10)\n",
        "plt.show()"
      ],
      "execution_count": 27,
      "outputs": [
        {
          "output_type": "display_data",
          "data": {
            "image/png": "[encoded data removed]",
            "text/plain": [
              "<Figure size 432x288 with 1 Axes>"
            ]
          },
          "metadata": {
            "needs_background": "light"
          }
        }
      ]
    },
    {
      "cell_type": "markdown",
      "metadata": {
        "id": "BaQiVQpfMkOg"
      },
      "source": [
        "#####1.3. gráfico de barra"
      ]
    },
    {
      "cell_type": "code",
      "metadata": {
        "colab": {
          "base_uri": "https://localhost:8080/",
          "height": 350
        },
        "id": "YZtbowVAM4rP",
        "outputId": "83e2621b-807f-49b8-d0db-b4611352c89b"
      },
      "source": [
        "Y = [\"Bom\", \"Ruim\", \"Ótimo\", \"Regular\", \"Regular\", \"Ótimo\", \"Ótimo\",\"Bom\", \"Ótimo\", \"Bom\", \"Ótimo\"]\n",
        "\n",
        "values = np.sort(np.unique(Y)) #usamos as funções 'sort' e 'unique' do Numpy para encontrar os valores possíveis\n",
        "\n",
        "#calculando a frequência de cada valor presente na lista\n",
        "freq = np.zeros(len(values)) # armazena as frequências\n",
        "ind = 0 # índice do vetor de frequências\n",
        "for i in values: # para os valores diferentes\n",
        "    counter = 0 # conta as ocorrências\n",
        "    for j in range(0,len(Y)):\n",
        "        if(Y[j] == i):\n",
        "            counter = counter + 1\n",
        "    freq[ind] = counter\n",
        "    ind = ind + 1\n",
        "\n",
        "print('Y:',Y)\n",
        "print('Valores possíveis:', values)\n",
        "print('Frequência dos valores:', freq)\n",
        "\n",
        "fig= plt.figure(figsize=(6,4))\n",
        "\n",
        "y_pos = np.arange(len(values))\n",
        "plt.xticks(y_pos, values)\n",
        "plt.bar(y_pos, freq, facecolor = 'orange')\n",
        "plt.xticks(fontsize=10)\n",
        "plt.yticks(fontsize=10)\n",
        "plt.title('Gráfico 3',  bbox={'facecolor':'1.0', 'pad':5})\n",
        "plt.xlabel(\"Valores\",fontsize = 12) \n",
        "plt.ylabel(\"Frequência\", fontsize = 12) \n",
        "plt.show()"
      ],
      "execution_count": 28,
      "outputs": [
        {
          "output_type": "stream",
          "name": "stdout",
          "text": [
            "Y: ['Bom', 'Ruim', 'Ótimo', 'Regular', 'Regular', 'Ótimo', 'Ótimo', 'Bom', 'Ótimo', 'Bom', 'Ótimo']\n",
            "Valores possíveis: ['Bom' 'Regular' 'Ruim' 'Ótimo']\n",
            "Frequência dos valores: [3. 2. 1. 5.]\n"
          ]
        },
        {
          "output_type": "display_data",
          "data": {
            "image/png": "[encoded data removed]",
            "text/plain": [
              "<Figure size 432x288 with 1 Axes>"
            ]
          },
          "metadata": {
            "needs_background": "light"
          }
        }
      ]
    },
    {
      "cell_type": "markdown",
      "source": [
        "#####1.4. gráfico de pizza"
      ],
      "metadata": {
        "id": "GwrzDwvEvciZ"
      }
    },
    {
      "cell_type": "code",
      "metadata": {
        "colab": {
          "base_uri": "https://localhost:8080/",
          "height": 378
        },
        "id": "52tLaNTHNc9W",
        "outputId": "13f57724-b527-4ce0-fe06-efbe6f985d96"
      },
      "source": [
        "labels = values\n",
        "sizes = freq\n",
        "explode = (0.1, 0, 0, 0)\n",
        "\n",
        "fig1, ax1 = plt.subplots(figsize=(10,6))\n",
        "plt.title('Gráfico 4',  bbox={'facecolor':'1.0', 'pad':5})\n",
        "ax1.pie(sizes, explode=explode, labels=labels, autopct='%1.1f%%', shadow=True, startangle=90)\n",
        "ax1.axis('equal')  # 'Equal aspect ratio' deixa que o gráfico seja plotado em formato de círculo\n",
        "plt.show()"
      ],
      "execution_count": 29,
      "outputs": [
        {
          "output_type": "display_data",
          "data": {
            "image/png": "[encoded data removed]",
            "text/plain": [
              "<Figure size 720x432 with 1 Axes>"
            ]
          },
          "metadata": {}
        }
      ]
    },
    {
      "cell_type": "markdown",
      "metadata": {
        "id": "g4Z95OpkNwhn"
      },
      "source": [
        "#####1.5. scatterplot ( usado quando queremos verificar a relação entre duas variáveis):"
      ]
    },
    {
      "cell_type": "code",
      "metadata": {
        "colab": {
          "base_uri": "https://localhost:8080/",
          "height": 298
        },
        "id": "M8GrkGplNzBg",
        "outputId": "34fbc25c-5a17-4b1a-98ce-c2398425baf4"
      },
      "source": [
        "N = 100\n",
        "X = np.linspace(-1,1, N) # gera N valores no intervalo [-1,1]\n",
        "erro = np.random.uniform(-1,1,N) # ruído a ser incluído na relação linear.\n",
        "sigma= 0.2\n",
        "Y = 0.8*X + erro*sigma\n",
        "\n",
        "fig= plt.figure(figsize=(6,4))\n",
        "plt.title('Gráfico 5',  bbox={'facecolor':'1.0', 'pad':5})\n",
        "plt.scatter(X, Y, marker='o', color = 'orange');\n",
        "plt.xticks(fontsize=10)\n",
        "plt.yticks(fontsize=10)\n",
        "plt.xlabel(\"X\",fontsize = 12) \n",
        "plt.ylabel(\"Y\", fontsize = 12) \n",
        "plt.show(True)"
      ],
      "execution_count": 30,
      "outputs": [
        {
          "output_type": "display_data",
          "data": {
            "image/png": "[encoded data removed]",
            "text/plain": [
              "<Figure size 432x288 with 1 Axes>"
            ]
          },
          "metadata": {
            "needs_background": "light"
          }
        }
      ]
    },
    {
      "cell_type": "markdown",
      "metadata": {
        "id": "IMMc4pvXOLE1"
      },
      "source": [
        "#####1.6. gráfico de calor (usado quando temos três variáveis, sendo que a escala de cores define a terceira variável):"
      ]
    },
    {
      "cell_type": "code",
      "metadata": {
        "colab": {
          "base_uri": "https://localhost:8080/",
          "height": 393
        },
        "id": "c0mV-48zOe5W",
        "outputId": "4713221a-e49f-4873-e28b-e6168f0f4b06"
      },
      "source": [
        "import numpy as np; np.random.seed(0)\n",
        "import seaborn as sns; sns.set()\n",
        "uniform_data = np.random.rand(10, 12)\n",
        "\n",
        "plt.figure(figsize=(12,6))\n",
        "plt.title('Gráfico 6',  bbox={'facecolor':'1.0', 'pad':5})\n",
        "ax = sns.heatmap(uniform_data)\n",
        "flights = sns.load_dataset(\"flights\")\n",
        "flights = flights.pivot(\"month\", \"year\", \"passengers\")\n",
        "#ax = sns.heatmap(flights)"
      ],
      "execution_count": 31,
      "outputs": [
        {
          "output_type": "display_data",
          "data": {
            "image/png": "[encoded data removed]",
            "text/plain": [
              "<Figure size 864x432 with 2 Axes>"
            ]
          },
          "metadata": {}
        }
      ]
    },
    {
      "cell_type": "markdown",
      "metadata": {
        "id": "jG8X0VOQO7fD"
      },
      "source": [
        "#2. Medidas de posição\n"
      ]
    },
    {
      "cell_type": "markdown",
      "source": [
        "#####2.1. Moda<br>\n"
      ],
      "metadata": {
        "id": "_sXHZkVYwAiZ"
      }
    },
    {
      "cell_type": "markdown",
      "source": [
        "A `moda` retorna o elemento mais comum em um conjunto de dados. Geralmente, essa medida é usada para atributos nominais.<br>\n",
        "\n",
        "* Para calcularmos a moda, usamos o pacote Statistics:"
      ],
      "metadata": {
        "id": "d5xI5CB6x9jt"
      }
    },
    {
      "cell_type": "code",
      "metadata": {
        "colab": {
          "base_uri": "https://localhost:8080/"
        },
        "id": "0-YTThhYPLbk",
        "outputId": "90191e9a-74fb-444e-bb38-369d900710f6"
      },
      "source": [
        "from statistics import mode\n",
        "a = [1,2,3,1,2,3,4,1,3,6,4,1]\n",
        "m = mode(a)\n",
        "print(\"X = \", a)\n",
        "print('A moda de X é', m)"
      ],
      "execution_count": 32,
      "outputs": [
        {
          "output_type": "stream",
          "name": "stdout",
          "text": [
            "X =  [1, 2, 3, 1, 2, 3, 4, 1, 3, 6, 4, 1]\n",
            "A moda de X é 1\n"
          ]
        }
      ]
    },
    {
      "cell_type": "markdown",
      "metadata": {
        "id": "VtlUsrkEPf2s"
      },
      "source": [
        "Esta biblioteca retorna um erro se houver mais de uma moda. Nesse caso, temos que implementar uma função para retornar todas as modas possíveis:"
      ]
    },
    {
      "cell_type": "code",
      "metadata": {
        "id": "JCBhTpz4PjZe"
      },
      "source": [
        "# b = [1,1,2,2,3,2,1,10,10,10] #neste caso, seria trimodal com 1, 2 e 10, o que daria erro\n",
        "# m = mode(b)\n",
        "# print(\"X =\", b)\n",
        "# print('A moda de X é:', m)"
      ],
      "execution_count": 33,
      "outputs": []
    },
    {
      "cell_type": "code",
      "metadata": {
        "colab": {
          "base_uri": "https://localhost:8080/"
        },
        "id": "G3czySm6P6P_",
        "outputId": "685e3561-1528-44fa-cc95-2ad43e6b8967"
      },
      "source": [
        "b = [1,1,2,2,3,2,1,10,10,10]\n",
        "def new_mode(b):\n",
        "    values = np.sort(np.unique(b)) \n",
        "    # vamos calcular a frequência de cada valor presente na lista\n",
        "    freq = np.zeros(len(values)) # armazena as frequências\n",
        "    ind = 0 # índice do vetor de frequências\n",
        "    for i in values: # para os valores diferentes\n",
        "        counter = 0 # conta as ocorrências\n",
        "        for j in range(0,len(b)):\n",
        "            if(b[j] == i):\n",
        "                counter = counter + 1\n",
        "        freq[ind] = counter\n",
        "        ind = ind + 1\n",
        "    mx = max(freq)\n",
        "    md = []\n",
        "    for i in range(0,len(freq)):\n",
        "        if(freq[i] == mx):\n",
        "            md.append(values[i])\n",
        "    return md\n",
        "moda = new_mode(b)\n",
        "print(\"X =\", b)\n",
        "print('A moda é', moda)"
      ],
      "execution_count": 34,
      "outputs": [
        {
          "output_type": "stream",
          "name": "stdout",
          "text": [
            "X = [1, 1, 2, 2, 3, 2, 1, 10, 10, 10]\n",
            "A moda é [1, 2, 10]\n"
          ]
        }
      ]
    },
    {
      "cell_type": "markdown",
      "metadata": {
        "id": "-HGqcdEaQ84t"
      },
      "source": [
        "Podemos também identificar a moda visualmente em um gráfico de barras, que representa o valor mais frequente."
      ]
    },
    {
      "cell_type": "code",
      "metadata": {
        "colab": {
          "base_uri": "https://localhost:8080/",
          "height": 353
        },
        "id": "tJzzUmF2Q-W3",
        "outputId": "e0c83f6b-974a-4f18-ec64-33a2c7a298d7"
      },
      "source": [
        "# Usamos a funções sort e unique do Numpy para encontrar os valores possíveis em ordem crescente.\n",
        "# esses valores serão mostrados no eixo horizontal do gráfico.\n",
        "values = np.sort(np.unique(b)) \n",
        "\n",
        "# vamos calcular a frequência de cada valor presente na lista\n",
        "freq = np.zeros(len(values)) # armazena as frequências\n",
        "ind = 0 # índice do vetor de frequências\n",
        "for i in values: # para os valores diferentes\n",
        "    counter = 0 # conta as ocorrências\n",
        "    for j in range(0,len(b)):\n",
        "        if(b[j] == i):\n",
        "            counter = counter + 1\n",
        "    freq[ind] = counter\n",
        "    ind = ind + 1\n",
        "\n",
        "print('X =',b)\n",
        "print('Valores possíveis:', values)\n",
        "print('Frequência dos valores:', freq)\n",
        "\n",
        "y_pos = np.arange(len(values))\n",
        "plt.xticks(y_pos, values)\n",
        "plt.bar(y_pos, freq, facecolor = 'orange')\n",
        "plt.title('Gráfico 7',  bbox={'facecolor':'1.0', 'pad':5})\n",
        "plt.xlabel(\"Valores\",fontsize = 12) \n",
        "plt.ylabel(\"Frequência\", fontsize = 12) \n",
        "\n",
        "\n",
        "plt.show()"
      ],
      "execution_count": 35,
      "outputs": [
        {
          "output_type": "stream",
          "name": "stdout",
          "text": [
            "X = [1, 1, 2, 2, 3, 2, 1, 10, 10, 10]\n",
            "Valores possíveis: [ 1  2  3 10]\n",
            "Frequência dos valores: [3. 3. 1. 3.]\n"
          ]
        },
        {
          "output_type": "display_data",
          "data": {
            "image/png": "[encoded data removed]",
            "text/plain": [
              "<Figure size 432x288 with 1 Axes>"
            ]
          },
          "metadata": {}
        }
      ]
    },
    {
      "cell_type": "markdown",
      "metadata": {
        "id": "Z5xjTdTDRYIQ"
      },
      "source": [
        "Podemos aplicar a função em dados nominais:"
      ]
    },
    {
      "cell_type": "code",
      "metadata": {
        "colab": {
          "base_uri": "https://localhost:8080/"
        },
        "id": "06R5R3LPRZSc",
        "outputId": "d9623d84-aefe-4466-d51a-2e9a480d0335"
      },
      "source": [
        "Y = [\"red\", \"blue\", \"blue\", \"red\", \"green\", \"red\", \"red\"]\n",
        "print('A moda de Y é', mode(Y))"
      ],
      "execution_count": 36,
      "outputs": [
        {
          "output_type": "stream",
          "name": "stdout",
          "text": [
            "A moda de Y é red\n"
          ]
        }
      ]
    },
    {
      "cell_type": "markdown",
      "metadata": {
        "id": "XnAeN9-3Ri78"
      },
      "source": [
        "O gráfico de barras mostrando a frequência:"
      ]
    },
    {
      "cell_type": "code",
      "metadata": {
        "colab": {
          "base_uri": "https://localhost:8080/",
          "height": 353
        },
        "id": "mWOBeC8zRlEI",
        "outputId": "5c24e62e-9a67-483f-a243-ef280fb13e63"
      },
      "source": [
        "values = np.sort(np.unique(Y)) #usamos a funções sort e unique do Numpy para encontrar os valores possíveis.\n",
        "\n",
        "# vamos calcular a frequência de cada valor presente na lista\n",
        "freq = np.zeros(len(values)) # armazena as frequencias\n",
        "ind = 0 # índice do vetor de frequências\n",
        "for i in values: # para os valores diferentes\n",
        "    counter = 0 # conta as ocorrências\n",
        "    for j in range(0,len(Y)):\n",
        "        if(Y[j] == i):\n",
        "            counter = counter + 1\n",
        "    freq[ind] = counter\n",
        "    ind = ind + 1\n",
        "\n",
        "print('Y =', Y)\n",
        "print('Valores possíveis:', values)\n",
        "print('Frequência dos valores:', freq)\n",
        "\n",
        "y_pos = np.arange(len(values))\n",
        "plt.xticks(y_pos, values)\n",
        "plt.bar(y_pos, freq, facecolor = 'orange')\n",
        "plt.xticks(fontsize=10)\n",
        "plt.yticks(fontsize=10)\n",
        "plt.title('Gráfico 8',  bbox={'facecolor':'1.0', 'pad':5})\n",
        "plt.xlabel(\"Valores\", fontsize = 12) \n",
        "plt.ylabel(\"Frequência\", fontsize = 12) \n",
        "plt.show()"
      ],
      "execution_count": 37,
      "outputs": [
        {
          "output_type": "stream",
          "name": "stdout",
          "text": [
            "Y = ['red', 'blue', 'blue', 'red', 'green', 'red', 'red']\n",
            "Valores possíveis: ['blue' 'green' 'red']\n",
            "Frequência dos valores: [2. 1. 4.]\n"
          ]
        },
        {
          "output_type": "display_data",
          "data": {
            "image/png": "[encoded data removed]",
            "text/plain": [
              "<Figure size 432x288 with 1 Axes>"
            ]
          },
          "metadata": {}
        }
      ]
    },
    {
      "cell_type": "markdown",
      "metadata": {
        "id": "oURF8ry6Rz5W"
      },
      "source": [
        "Ou ainda em um gráfico de pizza:"
      ]
    },
    {
      "cell_type": "code",
      "metadata": {
        "colab": {
          "base_uri": "https://localhost:8080/",
          "height": 373
        },
        "id": "FYIbslIeR0o7",
        "outputId": "5b4a1346-9244-490b-f92e-df1347c894b3"
      },
      "source": [
        "fig1, ax1 = plt.subplots(figsize=(10,6))\n",
        "ax1.pie(freq, explode=(0, 0, 0), labels=values, autopct='%1.1f%%', shadow=True, startangle=90)\n",
        "ax1.axis('equal')  # 'Equal aspect ratio' deixa que o gráfico seja plotado em formato de círculo\n",
        "plt.title('Gráfico 9',  bbox={'facecolor':'1.0', 'pad':5})\n",
        "plt.show()"
      ],
      "execution_count": 38,
      "outputs": [
        {
          "output_type": "display_data",
          "data": {
            "image/png": "[encoded data removed]",
            "text/plain": [
              "<Figure size 720x432 with 1 Axes>"
            ]
          },
          "metadata": {}
        }
      ]
    },
    {
      "cell_type": "markdown",
      "metadata": {
        "id": "lrfyh16GR_q2"
      },
      "source": [
        "#####2.2. Média e mediana\n"
      ]
    },
    {
      "cell_type": "markdown",
      "source": [
        "`Mediana` é o valor que ocupa a posição central do conjunto de dados, enquanto a `média` é a soma de todos os elementos dividido pela quantidade de elementos do conjunto."
      ],
      "metadata": {
        "id": "_CPbYVDt4pft"
      }
    },
    {
      "cell_type": "code",
      "metadata": {
        "colab": {
          "base_uri": "https://localhost:8080/"
        },
        "id": "Yv0d3UspSGQP",
        "outputId": "06a5492b-5131-44e9-b19a-52630197507c"
      },
      "source": [
        "import numpy as np \n",
        "c = [1,1,1,2,2,3,4,5,5,5]\n",
        "mx = np.mean(c)\n",
        "print('X =', c)\n",
        "print('A média é', mx)"
      ],
      "execution_count": 45,
      "outputs": [
        {
          "output_type": "stream",
          "name": "stdout",
          "text": [
            "X = [1, 1, 1, 2, 2, 3, 4, 5, 5, 5]\n",
            "A média é 2.9\n"
          ]
        }
      ]
    },
    {
      "cell_type": "code",
      "metadata": {
        "colab": {
          "base_uri": "https://localhost:8080/"
        },
        "id": "7Ba-ZALCSP-x",
        "outputId": "22ee934e-3979-4178-b1f9-9222a05dcf03"
      },
      "source": [
        "md = np.median(c)\n",
        "print('X =', c)\n",
        "print('A mediana é', md)"
      ],
      "execution_count": 46,
      "outputs": [
        {
          "output_type": "stream",
          "name": "stdout",
          "text": [
            "X = [1, 1, 1, 2, 2, 3, 4, 5, 5, 5]\n",
            "A mediana é 2.5\n"
          ]
        }
      ]
    },
    {
      "cell_type": "markdown",
      "metadata": {
        "id": "79FGP3RrSYsl"
      },
      "source": [
        "Se adicionarmos um valor extremo aos dados, vejamos como a média e a mediana se comportam:"
      ]
    },
    {
      "cell_type": "code",
      "metadata": {
        "colab": {
          "base_uri": "https://localhost:8080/"
        },
        "id": "eEP2bnJXSZqX",
        "outputId": "75229210-bcd9-4ba6-9feb-787f4c6c86b9"
      },
      "source": [
        "c2 = [1,1,1,2,2,3,4,5,5,1000]\n",
        "print('X2 =', c2)\n",
        "print('A nova média é:', np.mean(c2))\n",
        "print('A nova mediana é:', np.median(c2))"
      ],
      "execution_count": 47,
      "outputs": [
        {
          "output_type": "stream",
          "name": "stdout",
          "text": [
            "X2 = [1, 1, 1, 2, 2, 3, 4, 5, 5, 1000]\n",
            "A nova média é: 102.4\n",
            "A nova mediana é: 2.5\n"
          ]
        }
      ]
    },
    {
      "cell_type": "markdown",
      "metadata": {
        "id": "8VqbquduSlRX"
      },
      "source": [
        "Com isso, vemos que a média é altamente sensível a valores extremos, enquanto que a mediana é mais robusta. <br>\n",
        "\n",
        "Vamos considerar uma distribuição de probabilidades. Os dados são gerados a partir de distribuições normal e exponencial. \n",
        "* Para a distribuição normal, a média é indicada pela linha contínua e a mediana, pela tracejada."
      ]
    },
    {
      "cell_type": "code",
      "metadata": {
        "colab": {
          "base_uri": "https://localhost:8080/",
          "height": 301
        },
        "id": "sTKfokB6SwKn",
        "outputId": "44cfc269-0c75-4c86-d2d9-db002a6455ea"
      },
      "source": [
        "mu = 0 # Média da distribuição normal\n",
        "sigma = 10 #desvio padrão da distribuição normal\n",
        "Y = np.random.normal(mu, sigma, 1000)\n",
        "plt.hist(Y, density=True, bins=50,lw=0,alpha=.8)\n",
        "\n",
        "m = np.mean(Y) #média de Y\n",
        "md = np.median(Y) #mediana de Y\n",
        "plt.vlines(m,0,0.05)\n",
        "plt.vlines(md,0,0.05, linestyles = 'dashed')\n",
        "plt.xticks(fontsize=10)\n",
        "plt.yticks(fontsize=10)\n",
        "plt.title('Gráfico 10',  bbox={'facecolor':'1.0', 'pad':5})\n",
        "plt.xlabel(\"x\",fontsize = 12) \n",
        "plt.ylabel(\"p(x)\", fontsize = 12) \n",
        "plt.show(True)"
      ],
      "execution_count": 50,
      "outputs": [
        {
          "output_type": "display_data",
          "data": {
            "image/png": "[encoded data removed]",
            "text/plain": [
              "<Figure size 432x288 with 1 Axes>"
            ]
          },
          "metadata": {}
        }
      ]
    },
    {
      "cell_type": "markdown",
      "metadata": {
        "id": "PCY6PNpBTsqB"
      },
      "source": [
        "* Para a distribuição exponencial, a média é indicada pela linha contínua e a mediana pela tracejada."
      ]
    },
    {
      "cell_type": "code",
      "metadata": {
        "colab": {
          "base_uri": "https://localhost:8080/",
          "height": 301
        },
        "id": "EVpqyn92T0K-",
        "outputId": "90d83162-051f-4290-efc5-695f4f1a95d6"
      },
      "source": [
        "lbda = 100 # taxa da distribuição exponencial\n",
        "beta = 1.0/lbda\n",
        "\n",
        "Y = np.random.exponential(beta, 500)\n",
        "plt.hist(Y, density=True, bins=50,lw=0,alpha=.8)\n",
        "\n",
        "m = np.mean(Y)\n",
        "md = np.median(Y)\n",
        "plt.vlines(m,0,lbda)\n",
        "plt.vlines(md,0,lbda, linestyles = 'dashed')\n",
        "plt.xticks(fontsize=10)\n",
        "plt.yticks(fontsize=10)\n",
        "plt.title('Gráfico 11',  bbox={'facecolor':'1.0', 'pad':5})\n",
        "plt.xlabel(\"x\",fontsize = 12) \n",
        "plt.ylabel(\"p(x)\", fontsize = 12) \n",
        "\n",
        "plt.show(True)"
      ],
      "execution_count": 51,
      "outputs": [
        {
          "output_type": "display_data",
          "data": {
            "image/png": "[encoded data removed]",
            "text/plain": [
              "<Figure size 432x288 with 1 Axes>"
            ]
          },
          "metadata": {}
        }
      ]
    },
    {
      "cell_type": "markdown",
      "metadata": {
        "id": "XruB_xwyT6pt"
      },
      "source": [
        "Notamos que a média é similar à mediana se a distribuição é praticamente simétrica em relação à média. Caso a distribuição não seja simétrica, o mais adequado é usar a mediana como medida central."
      ]
    },
    {
      "cell_type": "markdown",
      "source": [
        "#####2.3. Quartis"
      ],
      "metadata": {
        "id": "n9-cowY2znjO"
      }
    },
    {
      "cell_type": "markdown",
      "metadata": {
        "id": "QHR63yaJUWY5"
      },
      "source": [
        "Com o uso do `boxplot`, avaliamos e comparamos o formato, tendência central e variabilidade de distribuições de amostra. Por padrão, um boxplot demonstra a mediana, os quartis, o intervalo interquartil(IQR) e as anomalias (outliers) representadas pelos valores máximos e mínimos de cada variável."
      ]
    },
    {
      "cell_type": "code",
      "metadata": {
        "colab": {
          "base_uri": "https://localhost:8080/",
          "height": 518
        },
        "id": "u8323GxgUfDp",
        "outputId": "5d19e8d9-28cc-4b8a-e117-a3c7494793db"
      },
      "source": [
        "data = pd.read_csv('/aula 08 - iris.csv', header=(0)) #fazer upload do arquivo \"aula 08 - iris.csv\"\n",
        "plt.figure(figsize=(8, 8))\n",
        "\n",
        "# mostra o boxplot\n",
        "sns.boxplot(x=\"species\", y=\"petal_length\", data=data)\n",
        "plt.title('Gráfico 12',  bbox={'facecolor':'1.0', 'pad':5})\n",
        "plt.xlabel('Espécie', fontsize=12)\n",
        "plt.ylabel('Comprimento da pétala', fontsize=12)\n",
        "plt.xticks(fontsize=10)\n",
        "plt.yticks(fontsize=10)\n",
        "plt.show(True)"
      ],
      "execution_count": 53,
      "outputs": [
        {
          "output_type": "display_data",
          "data": {
            "image/png": "[encoded data removed]",
            "text/plain": [
              "<Figure size 576x576 with 1 Axes>"
            ]
          },
          "metadata": {}
        }
      ]
    },
    {
      "cell_type": "markdown",
      "metadata": {
        "id": "Fi9IavfGY41F"
      },
      "source": [
        "#3. Medidas de dispersão<br>\n"
      ]
    },
    {
      "cell_type": "markdown",
      "source": [
        "As medidas de dispersão mais usadas são a variância e o desvio padrão. A `variância` mostra o quão distante cada valor de um conjunto está do valor central (médio). Com isso, quanto menor é a variância, mais próximos os valores estão da média, mas quanto maior é a variância, mais os valores estão distantes da média.<br>\n",
        "Já o `desvio padrão` indica quão uniforme está o conjunto estudado. Se o valor do desvio padrão é alto, o conjunto de dados está mais distante da média e, quanto mais próximo de 0 ele estiver, temos o desvio padrão mais homogêneo.<br>\n",
        " O `intervalo interquartil (IQR)` também é bastante usado e quantifica a diferença entre o terceiro e primeiro quartil do conjunto. <br>\n",
        " Por fim, a `amplitude` mede a diferença entre os valores máximo e mínimo do intervalo."
      ],
      "metadata": {
        "id": "ix1306XH2UlF"
      }
    },
    {
      "cell_type": "code",
      "metadata": {
        "colab": {
          "base_uri": "https://localhost:8080/"
        },
        "id": "jKm0pg-dZTHc",
        "outputId": "e51609d0-5f32-4332-9fab-f0faf4f0b632"
      },
      "source": [
        "from scipy.stats import iqr\n",
        "\n",
        "def variancia(X):\n",
        "    m = np.mean(X)\n",
        "    N = len(X)\n",
        "    s = 0\n",
        "    for i in np.arange(0, len(X)):\n",
        "        s = s + (X[i]-m)**2\n",
        "    s = s/(N-1)\n",
        "    return s\n",
        "\n",
        "X = [0,0,1,1,18]\n",
        "Y = [4, 4, 4, 4, 4]\n",
        "mx = np.mean(X)\n",
        "my = np.mean(Y)\n",
        "print('X:', X)\n",
        "print('Média de X:', mx)\n",
        "print('Variância de X:', variancia(X))\n",
        "print('IQR de X:', iqr(X))\n",
        "print('Amplitude de X:', np.max(X)-np.min(X))\n",
        "\n",
        "print('\\n')\n",
        "print('Y:', Y)\n",
        "print('Média de Y:', my)\n",
        "print('Variância de Y:', variancia(Y))\n",
        "print('IQR de Y:', iqr(Y))\n",
        "print('Amplitude de Y:', np.max(Y)-np.min(Y))"
      ],
      "execution_count": 63,
      "outputs": [
        {
          "output_type": "stream",
          "name": "stdout",
          "text": [
            "X: [0, 0, 1, 1, 18]\n",
            "Média de X: 4.0\n",
            "Variância de X: 61.5\n",
            "IQR de X: 1.0\n",
            "Amplitude de X: 18\n",
            "\n",
            "\n",
            "Y: [4, 4, 4, 4, 4]\n",
            "Média de Y: 4.0\n",
            "Variância de Y: 0.0\n",
            "IQR de Y: 0.0\n",
            "Amplitude de Y: 0\n"
          ]
        }
      ]
    },
    {
      "cell_type": "markdown",
      "metadata": {
        "id": "h9hCEP0XZblt"
      },
      "source": [
        "Notamos que os dados acima possuem a mesma média, mas a variância é bastante diferente."
      ]
    },
    {
      "cell_type": "markdown",
      "metadata": {
        "id": "Ha1K8kxCZgjj"
      },
      "source": [
        "#####Resumo descritivo das medidas estatística dos dados:"
      ]
    },
    {
      "cell_type": "code",
      "metadata": {
        "colab": {
          "base_uri": "https://localhost:8080/",
          "height": 300
        },
        "id": "GmCSkAI8ZoMU",
        "outputId": "777525da-c14b-4f3e-80ed-db3cbb5e0e86"
      },
      "source": [
        "data = pd.read_csv('/aula 08 - iris.csv', header=(0)) # lê os dados a partir do arquivo Iris\n",
        "data.describe() "
      ],
      "execution_count": 54,
      "outputs": [
        {
          "output_type": "execute_result",
          "data": {
            "text/html": [
              "\n",
              "  <div id=\"df-a8545401-120a-4e16-860d-1ce6ea670abf\">\n",
              "    <div class=\"colab-df-container\">\n",
              "      <div>\n",
              "<style scoped>\n",
              "    .dataframe tbody tr th:only-of-type {\n",
              "        vertical-align: middle;\n",
              "    }\n",
              "\n",
              "    .dataframe tbody tr th {\n",
              "        vertical-align: top;\n",
              "    }\n",
              "\n",
              "    .dataframe thead th {\n",
              "        text-align: right;\n",
              "    }\n",
              "</style>\n",
              "<table border=\"1\" class=\"dataframe\">\n",
              "  <thead>\n",
              "    <tr style=\"text-align: right;\">\n",
              "      <th></th>\n",
              "      <th>sepal_length</th>\n",
              "      <th>sepal_width</th>\n",
              "      <th>petal_length</th>\n",
              "      <th>petal_width</th>\n",
              "    </tr>\n",
              "  </thead>\n",
              "  <tbody>\n",
              "    <tr>\n",
              "      <th>count</th>\n",
              "      <td>150.000000</td>\n",
              "      <td>150.000000</td>\n",
              "      <td>150.000000</td>\n",
              "      <td>150.000000</td>\n",
              "    </tr>\n",
              "    <tr>\n",
              "      <th>mean</th>\n",
              "      <td>5.843333</td>\n",
              "      <td>3.054000</td>\n",
              "      <td>3.758667</td>\n",
              "      <td>1.198667</td>\n",
              "    </tr>\n",
              "    <tr>\n",
              "      <th>std</th>\n",
              "      <td>0.828066</td>\n",
              "      <td>0.433594</td>\n",
              "      <td>1.764420</td>\n",
              "      <td>0.763161</td>\n",
              "    </tr>\n",
              "    <tr>\n",
              "      <th>min</th>\n",
              "      <td>4.300000</td>\n",
              "      <td>2.000000</td>\n",
              "      <td>1.000000</td>\n",
              "      <td>0.100000</td>\n",
              "    </tr>\n",
              "    <tr>\n",
              "      <th>25%</th>\n",
              "      <td>5.100000</td>\n",
              "      <td>2.800000</td>\n",
              "      <td>1.600000</td>\n",
              "      <td>0.300000</td>\n",
              "    </tr>\n",
              "    <tr>\n",
              "      <th>50%</th>\n",
              "      <td>5.800000</td>\n",
              "      <td>3.000000</td>\n",
              "      <td>4.350000</td>\n",
              "      <td>1.300000</td>\n",
              "    </tr>\n",
              "    <tr>\n",
              "      <th>75%</th>\n",
              "      <td>6.400000</td>\n",
              "      <td>3.300000</td>\n",
              "      <td>5.100000</td>\n",
              "      <td>1.800000</td>\n",
              "    </tr>\n",
              "    <tr>\n",
              "      <th>max</th>\n",
              "      <td>7.900000</td>\n",
              "      <td>4.400000</td>\n",
              "      <td>6.900000</td>\n",
              "      <td>2.500000</td>\n",
              "    </tr>\n",
              "  </tbody>\n",
              "</table>\n",
              "</div>\n",
              "      <button class=\"colab-df-convert\" onclick=\"convertToInteractive('df-a8545401-120a-4e16-860d-1ce6ea670abf')\"\n",
              "              title=\"Convert this dataframe to an interactive table.\"\n",
              "              style=\"display:none;\">\n",
              "        \n",
              "  <svg xmlns=\"http://www.w3.org/2000/svg\" height=\"24px\"viewBox=\"0 0 24 24\"\n",
              "       width=\"24px\">\n",
              "    <path d=\"M0 0h24v24H0V0z\" fill=\"none\"/>\n",
              "    <path d=\"M18.56 5.44l.94 2.06.94-2.06 2.06-.94-2.06-.94-.94-2.06-.94 2.06-2.06.94zm-11 1L8.5 8.5l.94-2.06 2.06-.94-2.06-.94L8.5 2.5l-.94 2.06-2.06.94zm10 10l.94 2.06.94-2.06 2.06-.94-2.06-.94-.94-2.06-.94 2.06-2.06.94z\"/><path d=\"M17.41 7.96l-1.37-1.37c-.4-.4-.92-.59-1.43-.59-.52 0-1.04.2-1.43.59L10.3 9.45l-7.72 7.72c-.78.78-.78 2.05 0 2.83L4 21.41c.39.39.9.59 1.41.59.51 0 1.02-.2 1.41-.59l7.78-7.78 2.81-2.81c.8-.78.8-2.07 0-2.86zM5.41 20L4 18.59l7.72-7.72 1.47 1.35L5.41 20z\"/>\n",
              "  </svg>\n",
              "      </button>\n",
              "      \n",
              "  <style>\n",
              "    .colab-df-container {\n",
              "      display:flex;\n",
              "      flex-wrap:wrap;\n",
              "      gap: 12px;\n",
              "    }\n",
              "\n",
              "    .colab-df-convert {\n",
              "      background-color: #E8F0FE;\n",
              "      border: none;\n",
              "      border-radius: 50%;\n",
              "      cursor: pointer;\n",
              "      display: none;\n",
              "      fill: #1967D2;\n",
              "      height: 32px;\n",
              "      padding: 0 0 0 0;\n",
              "      width: 32px;\n",
              "    }\n",
              "\n",
              "    .colab-df-convert:hover {\n",
              "      background-color: #E2EBFA;\n",
              "      box-shadow: 0px 1px 2px rgba(60, 64, 67, 0.3), 0px 1px 3px 1px rgba(60, 64, 67, 0.15);\n",
              "      fill: #174EA6;\n",
              "    }\n",
              "\n",
              "    [theme=dark] .colab-df-convert {\n",
              "      background-color: #3B4455;\n",
              "      fill: #D2E3FC;\n",
              "    }\n",
              "\n",
              "    [theme=dark] .colab-df-convert:hover {\n",
              "      background-color: #434B5C;\n",
              "      box-shadow: 0px 1px 3px 1px rgba(0, 0, 0, 0.15);\n",
              "      filter: drop-shadow(0px 1px 2px rgba(0, 0, 0, 0.3));\n",
              "      fill: #FFFFFF;\n",
              "    }\n",
              "  </style>\n",
              "\n",
              "      <script>\n",
              "        const buttonEl =\n",
              "          document.querySelector('#df-a8545401-120a-4e16-860d-1ce6ea670abf button.colab-df-convert');\n",
              "        buttonEl.style.display =\n",
              "          google.colab.kernel.accessAllowed ? 'block' : 'none';\n",
              "\n",
              "        async function convertToInteractive(key) {\n",
              "          const element = document.querySelector('#df-a8545401-120a-4e16-860d-1ce6ea670abf');\n",
              "          const dataTable =\n",
              "            await google.colab.kernel.invokeFunction('convertToInteractive',\n",
              "                                                     [key], {});\n",
              "          if (!dataTable) return;\n",
              "\n",
              "          const docLinkHtml = 'Like what you see? Visit the ' +\n",
              "            '<a target=\"_blank\" href=https://colab.research.google.com/notebooks/data_table.ipynb>data table notebook</a>'\n",
              "            + ' to learn more about interactive tables.';\n",
              "          element.innerHTML = '';\n",
              "          dataTable['output_type'] = 'display_data';\n",
              "          await google.colab.output.renderOutput(dataTable, element);\n",
              "          const docLink = document.createElement('div');\n",
              "          docLink.innerHTML = docLinkHtml;\n",
              "          element.appendChild(docLink);\n",
              "        }\n",
              "      </script>\n",
              "    </div>\n",
              "  </div>\n",
              "  "
            ],
            "text/plain": [
              "       sepal_length  sepal_width  petal_length  petal_width\n",
              "count    150.000000   150.000000    150.000000   150.000000\n",
              "mean       5.843333     3.054000      3.758667     1.198667\n",
              "std        0.828066     0.433594      1.764420     0.763161\n",
              "min        4.300000     2.000000      1.000000     0.100000\n",
              "25%        5.100000     2.800000      1.600000     0.300000\n",
              "50%        5.800000     3.000000      4.350000     1.300000\n",
              "75%        6.400000     3.300000      5.100000     1.800000\n",
              "max        7.900000     4.400000      6.900000     2.500000"
            ]
          },
          "metadata": {},
          "execution_count": 54
        }
      ]
    },
    {
      "cell_type": "markdown",
      "metadata": {
        "id": "57Rqs7kRZ1-W"
      },
      "source": [
        "#Exercícios<br>\n"
      ]
    },
    {
      "cell_type": "markdown",
      "source": [
        "1. Gere dados a partir de uma distribuição de Poisson. Calcula a média e variância e compare seus valores."
      ],
      "metadata": {
        "id": "IPLC3TqqyW9H"
      }
    },
    {
      "cell_type": "code",
      "metadata": {
        "colab": {
          "base_uri": "https://localhost:8080/",
          "height": 477
        },
        "id": "jsA4tauoalDO",
        "outputId": "57729f91-3f4c-4453-cad1-e2c4830f58b4"
      },
      "source": [
        "from scipy.stats import poisson #gera números aleatórios\n",
        "dados_poisson = poisson.rvs(mu=10, size = 100)\n",
        "\n",
        "sns.distplot(dados_poisson)\n",
        "plt.title('Gráfico 13',  bbox={'facecolor':'1.0', 'pad':5})\n",
        "plt.xlim()\n",
        "plt.xlabel('k')\n",
        "plt.ylabel('P(X=k)')\n",
        "\n",
        "\n",
        "d = dados_poisson\n",
        "mx = np.mean(d)\n",
        "print('X =', d)\n",
        "print('A média é', mx)\n",
        "\n",
        "md = np.median(d)\n",
        "print('A mediana é', md)"
      ],
      "execution_count": 58,
      "outputs": [
        {
          "output_type": "stream",
          "name": "stderr",
          "text": [
            "/usr/local/lib/python3.7/dist-packages/seaborn/distributions.py:2619: FutureWarning: `distplot` is a deprecated function and will be removed in a future version. Please adapt your code to use either `displot` (a figure-level function with similar flexibility) or `histplot` (an axes-level function for histograms).\n",
            "  warnings.warn(msg, FutureWarning)\n"
          ]
        },
        {
          "output_type": "stream",
          "name": "stdout",
          "text": [
            "X = [11 13  6 10  7 12  8 13 11  8  9 12  9 13  5  7 14 10  8  6 10  7  6  6\n",
            "  9  9  5  7 11 14 10  9 15 12 12  9 12 19  7 17 11  8 12 13 12  9  5 11\n",
            "  6  6 12 12 10  3 11 11  3  9 10 17  9 11  9 10 11 13  8 12 10  8 11  7\n",
            " 15 20  8 13 11  4 15 10 13 13 15 10 10  7  8 11 13 11 13 12  7 10 10 11\n",
            " 11  5  9  6]\n",
            "A média é 10.09\n",
            "A mediana é 10.0\n"
          ]
        },
        {
          "output_type": "display_data",
          "data": {
            "image/png": "[encoded data removed]",
            "text/plain": [
              "<Figure size 432x288 with 1 Axes>"
            ]
          },
          "metadata": {}
        }
      ]
    },
    {
      "cell_type": "markdown",
      "metadata": {
        "id": "1k6u16TAdV8I"
      },
      "source": [
        "2. Considere os dados da Iris. Calcule a média, variância e IQR para cada atributo.\n"
      ]
    },
    {
      "cell_type": "code",
      "metadata": {
        "colab": {
          "base_uri": "https://localhost:8080/"
        },
        "id": "Mk7TLK4NdYiV",
        "outputId": "11e57c2b-deaa-4d4b-a9a5-5c9e7053e807"
      },
      "source": [
        "print(\"Médias =\\n\", data.mean(),\"\\n\")\n",
        "\n",
        "print(\"Variâncias =\\n\", data.var(),\"\\n\")\n",
        "\n",
        "iqr = data.quantile(.75) - data.quantile(.25)\n",
        "print(\"IQR =\\n\", iqr) "
      ],
      "execution_count": 59,
      "outputs": [
        {
          "output_type": "stream",
          "name": "stdout",
          "text": [
            "Médias =\n",
            " sepal_length    5.843333\n",
            "sepal_width     3.054000\n",
            "petal_length    3.758667\n",
            "petal_width     1.198667\n",
            "dtype: float64 \n",
            "\n",
            "Variâncias =\n",
            " sepal_length    0.685694\n",
            "sepal_width     0.188004\n",
            "petal_length    3.113179\n",
            "petal_width     0.582414\n",
            "dtype: float64 \n",
            "\n",
            "IQR =\n",
            " sepal_length    1.3\n",
            "sepal_width     0.5\n",
            "petal_length    3.5\n",
            "petal_width     1.5\n",
            "dtype: float64\n"
          ]
        },
        {
          "output_type": "stream",
          "name": "stderr",
          "text": [
            "/usr/local/lib/python3.7/dist-packages/ipykernel_launcher.py:1: FutureWarning: Dropping of nuisance columns in DataFrame reductions (with 'numeric_only=None') is deprecated; in a future version this will raise TypeError.  Select only valid columns before calling the reduction.\n",
            "  \"\"\"Entry point for launching an IPython kernel.\n",
            "/usr/local/lib/python3.7/dist-packages/ipykernel_launcher.py:3: FutureWarning: Dropping of nuisance columns in DataFrame reductions (with 'numeric_only=None') is deprecated; in a future version this will raise TypeError.  Select only valid columns before calling the reduction.\n",
            "  This is separate from the ipykernel package so we can avoid doing imports until\n"
          ]
        }
      ]
    },
    {
      "cell_type": "markdown",
      "metadata": {
        "id": "sG98ERrldY1k"
      },
      "source": [
        "3. Obtenha o boxplot de todas as variáveis da flor Iris, para cada espécie."
      ]
    },
    {
      "cell_type": "code",
      "metadata": {
        "colab": {
          "base_uri": "https://localhost:8080/",
          "height": 206
        },
        "id": "LlNoTQuwB71X",
        "outputId": "ed44e40c-71ac-475d-d983-a6e88ec7c7f7"
      },
      "source": [
        "data.head()"
      ],
      "execution_count": 60,
      "outputs": [
        {
          "output_type": "execute_result",
          "data": {
            "text/html": [
              "\n",
              "  <div id=\"df-1a74b4a0-4925-4ac8-b69f-1d40e66a2c91\">\n",
              "    <div class=\"colab-df-container\">\n",
              "      <div>\n",
              "<style scoped>\n",
              "    .dataframe tbody tr th:only-of-type {\n",
              "        vertical-align: middle;\n",
              "    }\n",
              "\n",
              "    .dataframe tbody tr th {\n",
              "        vertical-align: top;\n",
              "    }\n",
              "\n",
              "    .dataframe thead th {\n",
              "        text-align: right;\n",
              "    }\n",
              "</style>\n",
              "<table border=\"1\" class=\"dataframe\">\n",
              "  <thead>\n",
              "    <tr style=\"text-align: right;\">\n",
              "      <th></th>\n",
              "      <th>sepal_length</th>\n",
              "      <th>sepal_width</th>\n",
              "      <th>petal_length</th>\n",
              "      <th>petal_width</th>\n",
              "      <th>species</th>\n",
              "    </tr>\n",
              "  </thead>\n",
              "  <tbody>\n",
              "    <tr>\n",
              "      <th>0</th>\n",
              "      <td>5.1</td>\n",
              "      <td>3.5</td>\n",
              "      <td>1.4</td>\n",
              "      <td>0.2</td>\n",
              "      <td>setosa</td>\n",
              "    </tr>\n",
              "    <tr>\n",
              "      <th>1</th>\n",
              "      <td>4.9</td>\n",
              "      <td>3.0</td>\n",
              "      <td>1.4</td>\n",
              "      <td>0.2</td>\n",
              "      <td>setosa</td>\n",
              "    </tr>\n",
              "    <tr>\n",
              "      <th>2</th>\n",
              "      <td>4.7</td>\n",
              "      <td>3.2</td>\n",
              "      <td>1.3</td>\n",
              "      <td>0.2</td>\n",
              "      <td>setosa</td>\n",
              "    </tr>\n",
              "    <tr>\n",
              "      <th>3</th>\n",
              "      <td>4.6</td>\n",
              "      <td>3.1</td>\n",
              "      <td>1.5</td>\n",
              "      <td>0.2</td>\n",
              "      <td>setosa</td>\n",
              "    </tr>\n",
              "    <tr>\n",
              "      <th>4</th>\n",
              "      <td>5.0</td>\n",
              "      <td>3.6</td>\n",
              "      <td>1.4</td>\n",
              "      <td>0.2</td>\n",
              "      <td>setosa</td>\n",
              "    </tr>\n",
              "  </tbody>\n",
              "</table>\n",
              "</div>\n",
              "      <button class=\"colab-df-convert\" onclick=\"convertToInteractive('df-1a74b4a0-4925-4ac8-b69f-1d40e66a2c91')\"\n",
              "              title=\"Convert this dataframe to an interactive table.\"\n",
              "              style=\"display:none;\">\n",
              "        \n",
              "  <svg xmlns=\"http://www.w3.org/2000/svg\" height=\"24px\"viewBox=\"0 0 24 24\"\n",
              "       width=\"24px\">\n",
              "    <path d=\"M0 0h24v24H0V0z\" fill=\"none\"/>\n",
              "    <path d=\"M18.56 5.44l.94 2.06.94-2.06 2.06-.94-2.06-.94-.94-2.06-.94 2.06-2.06.94zm-11 1L8.5 8.5l.94-2.06 2.06-.94-2.06-.94L8.5 2.5l-.94 2.06-2.06.94zm10 10l.94 2.06.94-2.06 2.06-.94-2.06-.94-.94-2.06-.94 2.06-2.06.94z\"/><path d=\"M17.41 7.96l-1.37-1.37c-.4-.4-.92-.59-1.43-.59-.52 0-1.04.2-1.43.59L10.3 9.45l-7.72 7.72c-.78.78-.78 2.05 0 2.83L4 21.41c.39.39.9.59 1.41.59.51 0 1.02-.2 1.41-.59l7.78-7.78 2.81-2.81c.8-.78.8-2.07 0-2.86zM5.41 20L4 18.59l7.72-7.72 1.47 1.35L5.41 20z\"/>\n",
              "  </svg>\n",
              "      </button>\n",
              "      \n",
              "  <style>\n",
              "    .colab-df-container {\n",
              "      display:flex;\n",
              "      flex-wrap:wrap;\n",
              "      gap: 12px;\n",
              "    }\n",
              "\n",
              "    .colab-df-convert {\n",
              "      background-color: #E8F0FE;\n",
              "      border: none;\n",
              "      border-radius: 50%;\n",
              "      cursor: pointer;\n",
              "      display: none;\n",
              "      fill: #1967D2;\n",
              "      height: 32px;\n",
              "      padding: 0 0 0 0;\n",
              "      width: 32px;\n",
              "    }\n",
              "\n",
              "    .colab-df-convert:hover {\n",
              "      background-color: #E2EBFA;\n",
              "      box-shadow: 0px 1px 2px rgba(60, 64, 67, 0.3), 0px 1px 3px 1px rgba(60, 64, 67, 0.15);\n",
              "      fill: #174EA6;\n",
              "    }\n",
              "\n",
              "    [theme=dark] .colab-df-convert {\n",
              "      background-color: #3B4455;\n",
              "      fill: #D2E3FC;\n",
              "    }\n",
              "\n",
              "    [theme=dark] .colab-df-convert:hover {\n",
              "      background-color: #434B5C;\n",
              "      box-shadow: 0px 1px 3px 1px rgba(0, 0, 0, 0.15);\n",
              "      filter: drop-shadow(0px 1px 2px rgba(0, 0, 0, 0.3));\n",
              "      fill: #FFFFFF;\n",
              "    }\n",
              "  </style>\n",
              "\n",
              "      <script>\n",
              "        const buttonEl =\n",
              "          document.querySelector('#df-1a74b4a0-4925-4ac8-b69f-1d40e66a2c91 button.colab-df-convert');\n",
              "        buttonEl.style.display =\n",
              "          google.colab.kernel.accessAllowed ? 'block' : 'none';\n",
              "\n",
              "        async function convertToInteractive(key) {\n",
              "          const element = document.querySelector('#df-1a74b4a0-4925-4ac8-b69f-1d40e66a2c91');\n",
              "          const dataTable =\n",
              "            await google.colab.kernel.invokeFunction('convertToInteractive',\n",
              "                                                     [key], {});\n",
              "          if (!dataTable) return;\n",
              "\n",
              "          const docLinkHtml = 'Like what you see? Visit the ' +\n",
              "            '<a target=\"_blank\" href=https://colab.research.google.com/notebooks/data_table.ipynb>data table notebook</a>'\n",
              "            + ' to learn more about interactive tables.';\n",
              "          element.innerHTML = '';\n",
              "          dataTable['output_type'] = 'display_data';\n",
              "          await google.colab.output.renderOutput(dataTable, element);\n",
              "          const docLink = document.createElement('div');\n",
              "          docLink.innerHTML = docLinkHtml;\n",
              "          element.appendChild(docLink);\n",
              "        }\n",
              "      </script>\n",
              "    </div>\n",
              "  </div>\n",
              "  "
            ],
            "text/plain": [
              "   sepal_length  sepal_width  petal_length  petal_width species\n",
              "0           5.1          3.5           1.4          0.2  setosa\n",
              "1           4.9          3.0           1.4          0.2  setosa\n",
              "2           4.7          3.2           1.3          0.2  setosa\n",
              "3           4.6          3.1           1.5          0.2  setosa\n",
              "4           5.0          3.6           1.4          0.2  setosa"
            ]
          },
          "metadata": {},
          "execution_count": 60
        }
      ]
    },
    {
      "cell_type": "code",
      "metadata": {
        "colab": {
          "base_uri": "https://localhost:8080/",
          "height": 331
        },
        "id": "1dUZGQzUBDv3",
        "outputId": "d9be4d5e-4f83-49bf-a69c-58df13c043f9"
      },
      "source": [
        "fig, axes = plt.subplots(1, 4, figsize=(20, 4))\n",
        "fig.suptitle('Gráficos 14 a 17 - Variedades da flor iris',fontsize=12)\n",
        "sns.boxplot(ax=axes[0], x=data[\"species\"], y=\"sepal_length\", data=data)\n",
        "\n",
        "sns.boxplot(ax=axes[1], x=data[\"species\"], y=\"sepal_width\", data=data)\n",
        "\n",
        "sns.boxplot(ax=axes[2], x=data[\"species\"], y=\"petal_length\", data=data)\n",
        "\n",
        "sns.boxplot(ax=axes[3], x=data[\"species\"], y=\"petal_width\", data=data)\n"
      ],
      "execution_count": 62,
      "outputs": [
        {
          "output_type": "execute_result",
          "data": {
            "text/plain": [
              "<matplotlib.axes._subplots.AxesSubplot at 0x7f410a4a3d90>"
            ]
          },
          "metadata": {},
          "execution_count": 62
        },
        {
          "output_type": "display_data",
          "data": {
            "image/png": "[encoded data removed]",
            "text/plain": [
              "<Figure size 1440x288 with 4 Axes>"
            ]
          },
          "metadata": {}
        }
      ]
    }
  ]
}